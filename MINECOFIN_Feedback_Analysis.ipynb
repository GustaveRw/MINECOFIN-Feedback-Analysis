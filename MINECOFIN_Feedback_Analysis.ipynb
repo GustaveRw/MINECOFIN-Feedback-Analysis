{
  "nbformat": 4,
  "nbformat_minor": 0,
  "metadata": {
    "colab": {
      "provenance": [],
      "authorship_tag": "ABX9TyMrlE/8MNADHIJrxnVX41vO",
      "include_colab_link": true
    },
    "kernelspec": {
      "name": "python3",
      "display_name": "Python 3"
    },
    "language_info": {
      "name": "python"
    },
    "accelerator": "GPU",
    "gpuClass": "standard",
    "widgets": {
      "application/vnd.jupyter.widget-state+json": {
        "f4aff12dd33440548dc2e7f02e923ff7": {
          "model_module": "@jupyter-widgets/controls",
          "model_name": "HBoxModel",
          "model_module_version": "1.5.0",
          "state": {
            "_dom_classes": [],
            "_model_module": "@jupyter-widgets/controls",
            "_model_module_version": "1.5.0",
            "_model_name": "HBoxModel",
            "_view_count": null,
            "_view_module": "@jupyter-widgets/controls",
            "_view_module_version": "1.5.0",
            "_view_name": "HBoxView",
            "box_style": "",
            "children": [
              "IPY_MODEL_e283bcfb509548eaa6f484ee87937d90",
              "IPY_MODEL_13f769ef36544f86839a7fddbaba0512",
              "IPY_MODEL_3b6baf3df3fb47deaf15862c49d19187"
            ],
            "layout": "IPY_MODEL_acc69407047841869a0e28fd2c96552b"
          }
        },
        "e283bcfb509548eaa6f484ee87937d90": {
          "model_module": "@jupyter-widgets/controls",
          "model_name": "HTMLModel",
          "model_module_version": "1.5.0",
          "state": {
            "_dom_classes": [],
            "_model_module": "@jupyter-widgets/controls",
            "_model_module_version": "1.5.0",
            "_model_name": "HTMLModel",
            "_view_count": null,
            "_view_module": "@jupyter-widgets/controls",
            "_view_module_version": "1.5.0",
            "_view_name": "HTMLView",
            "description": "",
            "description_tooltip": null,
            "layout": "IPY_MODEL_91e888ae6ca949c08e4a4122ccb80c31",
            "placeholder": "​",
            "style": "IPY_MODEL_3a185a5e3e4b4725966bfbaecdac4d26",
            "value": ""
          }
        },
        "13f769ef36544f86839a7fddbaba0512": {
          "model_module": "@jupyter-widgets/controls",
          "model_name": "FloatProgressModel",
          "model_module_version": "1.5.0",
          "state": {
            "_dom_classes": [],
            "_model_module": "@jupyter-widgets/controls",
            "_model_module_version": "1.5.0",
            "_model_name": "FloatProgressModel",
            "_view_count": null,
            "_view_module": "@jupyter-widgets/controls",
            "_view_module_version": "1.5.0",
            "_view_name": "ProgressView",
            "bar_style": "success",
            "description": "",
            "description_tooltip": null,
            "layout": "IPY_MODEL_dd2f00e050d04641ab3435588a62efbb",
            "max": 1,
            "min": 0,
            "orientation": "horizontal",
            "style": "IPY_MODEL_4f3f49839fb5433b9b2d8137202e2e01",
            "value": 1
          }
        },
        "3b6baf3df3fb47deaf15862c49d19187": {
          "model_module": "@jupyter-widgets/controls",
          "model_name": "HTMLModel",
          "model_module_version": "1.5.0",
          "state": {
            "_dom_classes": [],
            "_model_module": "@jupyter-widgets/controls",
            "_model_module_version": "1.5.0",
            "_model_name": "HTMLModel",
            "_view_count": null,
            "_view_module": "@jupyter-widgets/controls",
            "_view_module_version": "1.5.0",
            "_view_name": "HTMLView",
            "description": "",
            "description_tooltip": null,
            "layout": "IPY_MODEL_7566dccdc3df4ef985775c6c80a30e00",
            "placeholder": "​",
            "style": "IPY_MODEL_a71bf5b98b4a41169b5ffb7952080e66",
            "value": " 4/? [00:01&lt;00:00,  1.27it/s]"
          }
        },
        "acc69407047841869a0e28fd2c96552b": {
          "model_module": "@jupyter-widgets/base",
          "model_name": "LayoutModel",
          "model_module_version": "1.2.0",
          "state": {
            "_model_module": "@jupyter-widgets/base",
            "_model_module_version": "1.2.0",
            "_model_name": "LayoutModel",
            "_view_count": null,
            "_view_module": "@jupyter-widgets/base",
            "_view_module_version": "1.2.0",
            "_view_name": "LayoutView",
            "align_content": null,
            "align_items": null,
            "align_self": null,
            "border": null,
            "bottom": null,
            "display": null,
            "flex": null,
            "flex_flow": null,
            "grid_area": null,
            "grid_auto_columns": null,
            "grid_auto_flow": null,
            "grid_auto_rows": null,
            "grid_column": null,
            "grid_gap": null,
            "grid_row": null,
            "grid_template_areas": null,
            "grid_template_columns": null,
            "grid_template_rows": null,
            "height": null,
            "justify_content": null,
            "justify_items": null,
            "left": null,
            "margin": null,
            "max_height": null,
            "max_width": null,
            "min_height": null,
            "min_width": null,
            "object_fit": null,
            "object_position": null,
            "order": null,
            "overflow": null,
            "overflow_x": null,
            "overflow_y": null,
            "padding": null,
            "right": null,
            "top": null,
            "visibility": null,
            "width": null
          }
        },
        "91e888ae6ca949c08e4a4122ccb80c31": {
          "model_module": "@jupyter-widgets/base",
          "model_name": "LayoutModel",
          "model_module_version": "1.2.0",
          "state": {
            "_model_module": "@jupyter-widgets/base",
            "_model_module_version": "1.2.0",
            "_model_name": "LayoutModel",
            "_view_count": null,
            "_view_module": "@jupyter-widgets/base",
            "_view_module_version": "1.2.0",
            "_view_name": "LayoutView",
            "align_content": null,
            "align_items": null,
            "align_self": null,
            "border": null,
            "bottom": null,
            "display": null,
            "flex": null,
            "flex_flow": null,
            "grid_area": null,
            "grid_auto_columns": null,
            "grid_auto_flow": null,
            "grid_auto_rows": null,
            "grid_column": null,
            "grid_gap": null,
            "grid_row": null,
            "grid_template_areas": null,
            "grid_template_columns": null,
            "grid_template_rows": null,
            "height": null,
            "justify_content": null,
            "justify_items": null,
            "left": null,
            "margin": null,
            "max_height": null,
            "max_width": null,
            "min_height": null,
            "min_width": null,
            "object_fit": null,
            "object_position": null,
            "order": null,
            "overflow": null,
            "overflow_x": null,
            "overflow_y": null,
            "padding": null,
            "right": null,
            "top": null,
            "visibility": null,
            "width": null
          }
        },
        "3a185a5e3e4b4725966bfbaecdac4d26": {
          "model_module": "@jupyter-widgets/controls",
          "model_name": "DescriptionStyleModel",
          "model_module_version": "1.5.0",
          "state": {
            "_model_module": "@jupyter-widgets/controls",
            "_model_module_version": "1.5.0",
            "_model_name": "DescriptionStyleModel",
            "_view_count": null,
            "_view_module": "@jupyter-widgets/base",
            "_view_module_version": "1.2.0",
            "_view_name": "StyleView",
            "description_width": ""
          }
        },
        "dd2f00e050d04641ab3435588a62efbb": {
          "model_module": "@jupyter-widgets/base",
          "model_name": "LayoutModel",
          "model_module_version": "1.2.0",
          "state": {
            "_model_module": "@jupyter-widgets/base",
            "_model_module_version": "1.2.0",
            "_model_name": "LayoutModel",
            "_view_count": null,
            "_view_module": "@jupyter-widgets/base",
            "_view_module_version": "1.2.0",
            "_view_name": "LayoutView",
            "align_content": null,
            "align_items": null,
            "align_self": null,
            "border": null,
            "bottom": null,
            "display": null,
            "flex": null,
            "flex_flow": null,
            "grid_area": null,
            "grid_auto_columns": null,
            "grid_auto_flow": null,
            "grid_auto_rows": null,
            "grid_column": null,
            "grid_gap": null,
            "grid_row": null,
            "grid_template_areas": null,
            "grid_template_columns": null,
            "grid_template_rows": null,
            "height": null,
            "justify_content": null,
            "justify_items": null,
            "left": null,
            "margin": null,
            "max_height": null,
            "max_width": null,
            "min_height": null,
            "min_width": null,
            "object_fit": null,
            "object_position": null,
            "order": null,
            "overflow": null,
            "overflow_x": null,
            "overflow_y": null,
            "padding": null,
            "right": null,
            "top": null,
            "visibility": null,
            "width": "20px"
          }
        },
        "4f3f49839fb5433b9b2d8137202e2e01": {
          "model_module": "@jupyter-widgets/controls",
          "model_name": "ProgressStyleModel",
          "model_module_version": "1.5.0",
          "state": {
            "_model_module": "@jupyter-widgets/controls",
            "_model_module_version": "1.5.0",
            "_model_name": "ProgressStyleModel",
            "_view_count": null,
            "_view_module": "@jupyter-widgets/base",
            "_view_module_version": "1.2.0",
            "_view_name": "StyleView",
            "bar_color": null,
            "description_width": ""
          }
        },
        "7566dccdc3df4ef985775c6c80a30e00": {
          "model_module": "@jupyter-widgets/base",
          "model_name": "LayoutModel",
          "model_module_version": "1.2.0",
          "state": {
            "_model_module": "@jupyter-widgets/base",
            "_model_module_version": "1.2.0",
            "_model_name": "LayoutModel",
            "_view_count": null,
            "_view_module": "@jupyter-widgets/base",
            "_view_module_version": "1.2.0",
            "_view_name": "LayoutView",
            "align_content": null,
            "align_items": null,
            "align_self": null,
            "border": null,
            "bottom": null,
            "display": null,
            "flex": null,
            "flex_flow": null,
            "grid_area": null,
            "grid_auto_columns": null,
            "grid_auto_flow": null,
            "grid_auto_rows": null,
            "grid_column": null,
            "grid_gap": null,
            "grid_row": null,
            "grid_template_areas": null,
            "grid_template_columns": null,
            "grid_template_rows": null,
            "height": null,
            "justify_content": null,
            "justify_items": null,
            "left": null,
            "margin": null,
            "max_height": null,
            "max_width": null,
            "min_height": null,
            "min_width": null,
            "object_fit": null,
            "object_position": null,
            "order": null,
            "overflow": null,
            "overflow_x": null,
            "overflow_y": null,
            "padding": null,
            "right": null,
            "top": null,
            "visibility": null,
            "width": null
          }
        },
        "a71bf5b98b4a41169b5ffb7952080e66": {
          "model_module": "@jupyter-widgets/controls",
          "model_name": "DescriptionStyleModel",
          "model_module_version": "1.5.0",
          "state": {
            "_model_module": "@jupyter-widgets/controls",
            "_model_module_version": "1.5.0",
            "_model_name": "DescriptionStyleModel",
            "_view_count": null,
            "_view_module": "@jupyter-widgets/base",
            "_view_module_version": "1.2.0",
            "_view_name": "StyleView",
            "description_width": ""
          }
        }
      }
    }
  },
  "cells": [
    {
      "cell_type": "markdown",
      "metadata": {
        "id": "view-in-github",
        "colab_type": "text"
      },
      "source": [
        "<a href=\"https://colab.research.google.com/github/GustaveRw/MINECOFIN-Feedback-Analysis/blob/master/MINECOFIN_Feedback_Analysis.ipynb\" target=\"_parent\"><img src=\"https://colab.research.google.com/assets/colab-badge.svg\" alt=\"Open In Colab\"/></a>"
      ]
    },
    {
      "cell_type": "code",
      "execution_count": 1,
      "metadata": {
        "colab": {
          "base_uri": "https://localhost:8080/"
        },
        "id": "Jx6iDREWgR7j",
        "outputId": "10d612f4-4a01-415d-bb9d-613a431301ef"
      },
      "outputs": [
        {
          "output_type": "stream",
          "name": "stdout",
          "text": [
            "Looking in indexes: https://pypi.org/simple, https://us-python.pkg.dev/colab-wheels/public/simple/\n",
            "Collecting snscrape\n",
            "  Downloading snscrape-0.5.0.20230113-py3-none-any.whl (69 kB)\n",
            "\u001b[2K     \u001b[90m━━━━━━━━━━━━━━━━━━━━━━━━━━━━━━━━━━━━━━━━\u001b[0m \u001b[32m69.2/69.2 KB\u001b[0m \u001b[31m2.4 MB/s\u001b[0m eta \u001b[36m0:00:00\u001b[0m\n",
            "\u001b[?25hRequirement already satisfied: requests[socks] in /usr/local/lib/python3.8/dist-packages (from snscrape) (2.25.1)\n",
            "Requirement already satisfied: pytz in /usr/local/lib/python3.8/dist-packages (from snscrape) (2022.7.1)\n",
            "Requirement already satisfied: lxml in /usr/local/lib/python3.8/dist-packages (from snscrape) (4.9.2)\n",
            "Requirement already satisfied: filelock in /usr/local/lib/python3.8/dist-packages (from snscrape) (3.9.0)\n",
            "Requirement already satisfied: beautifulsoup4 in /usr/local/lib/python3.8/dist-packages (from snscrape) (4.6.3)\n",
            "Requirement already satisfied: urllib3<1.27,>=1.21.1 in /usr/local/lib/python3.8/dist-packages (from requests[socks]->snscrape) (1.26.14)\n",
            "Requirement already satisfied: idna<3,>=2.5 in /usr/local/lib/python3.8/dist-packages (from requests[socks]->snscrape) (2.10)\n",
            "Requirement already satisfied: certifi>=2017.4.17 in /usr/local/lib/python3.8/dist-packages (from requests[socks]->snscrape) (2022.12.7)\n",
            "Requirement already satisfied: chardet<5,>=3.0.2 in /usr/local/lib/python3.8/dist-packages (from requests[socks]->snscrape) (4.0.0)\n",
            "Requirement already satisfied: PySocks!=1.5.7,>=1.5.6 in /usr/local/lib/python3.8/dist-packages (from requests[socks]->snscrape) (1.7.1)\n",
            "Installing collected packages: snscrape\n",
            "Successfully installed snscrape-0.5.0.20230113\n",
            "Looking in indexes: https://pypi.org/simple, https://us-python.pkg.dev/colab-wheels/public/simple/\n",
            "Collecting git+https://github.com/JustAnotherArchivist/snscrape.git\n",
            "  Cloning https://github.com/JustAnotherArchivist/snscrape.git to /tmp/pip-req-build-njw2rgkg\n",
            "  Running command git clone --filter=blob:none --quiet https://github.com/JustAnotherArchivist/snscrape.git /tmp/pip-req-build-njw2rgkg\n",
            "  Resolved https://github.com/JustAnotherArchivist/snscrape.git to commit 03ef3debaf9c32d20cf4ff557a24276c34f12005\n",
            "  Installing build dependencies ... \u001b[?25l\u001b[?25hdone\n",
            "  Getting requirements to build wheel ... \u001b[?25l\u001b[?25hdone\n",
            "  Installing backend dependencies ... \u001b[?25l\u001b[?25hdone\n",
            "  Preparing metadata (pyproject.toml) ... \u001b[?25l\u001b[?25hdone\n",
            "Building wheels for collected packages: UNKNOWN\n",
            "  Building wheel for UNKNOWN (pyproject.toml) ... \u001b[?25l\u001b[?25hdone\n",
            "  Created wheel for UNKNOWN: filename=UNKNOWN-0.5.0.20230114.dev35+g03ef3de-py3-none-any.whl size=13561 sha256=3a1ec5d13ca9dab8d385502a9c8433730e69effc6f56556beb0235f6db9938a3\n",
            "  Stored in directory: /tmp/pip-ephem-wheel-cache-47qpoq7w/wheels/92/42/87/33fa9b18f7a75d02643a9ca3743339aec9be28c6796267c7d8\n",
            "Successfully built UNKNOWN\n",
            "Installing collected packages: UNKNOWN\n",
            "Successfully installed UNKNOWN-0.5.0.20230114.dev35+g03ef3de\n"
          ]
        }
      ],
      "source": [
        "!pip install snscrape\n",
        "!pip3 install git+https://github.com/JustAnotherArchivist/snscrape.git\n"
      ]
    },
    {
      "cell_type": "code",
      "source": [
        "import pandas as pd \n",
        "\n",
        "import numpy as np \n",
        "\n",
        "import snscrape.modules.twitter as sntwitter \n",
        "\n",
        "import datetime \n",
        "\n",
        "from tqdm.notebook import tqdm_notebook \n",
        "\n",
        "import seaborn as sns \n",
        "\n",
        "import matplotlib.pyplot as plt \n",
        "\n",
        "sns.set_theme(style=\"whitegrid\") "
      ],
      "metadata": {
        "id": "naFEU04zs7qY"
      },
      "execution_count": 2,
      "outputs": []
    },
    {
      "cell_type": "code",
      "source": [
        "text = input('Enter query text to be matched (or leave it blank by pressing enter)') \n",
        "\n",
        "username = input('Enter specific username(s) from a twitter account without @ (or leave it blank by pressing enter): ') \n",
        "\n",
        "since = input('Enter startdate in this format yyyy-mm-dd (or leave it blank by pressing enter): ') \n",
        "\n",
        "until = input('Enter enddate in this format yyyy-mm-dd (or leave it blank by pressing enter): ') \n",
        "\n",
        "count = (input('Enter max number of tweets or enter -1 to retrieve all possible tweets: ')) \n",
        "\n",
        "retweet = input('Exclude Retweets? (y/n): ') \n",
        "\n",
        "replies = input('Exclude Replies? (y/n): ')"
      ],
      "metadata": {
        "colab": {
          "base_uri": "https://localhost:8080/"
        },
        "id": "V-eQKO9zWvAs",
        "outputId": "24ea52c5-7667-49cf-c3fa-6a6b8dfcb5cd"
      },
      "execution_count": 6,
      "outputs": [
        {
          "name": "stdout",
          "output_type": "stream",
          "text": [
            "Enter query text to be matched (or leave it blank by pressing enter)finance\n",
            "Enter specific username(s) from a twitter account without @ (or leave it blank by pressing enter): RwandaFinance\n",
            "Enter startdate in this format yyyy-mm-dd (or leave it blank by pressing enter): \n",
            "Enter enddate in this format yyyy-mm-dd (or leave it blank by pressing enter): \n",
            "Enter max number of tweets or enter -1 to retrieve all possible tweets: -1\n",
            "Exclude Retweets? (y/n): y\n",
            "Exclude Replies? (y/n): y\n"
          ]
        }
      ]
    },
    {
      "cell_type": "code",
      "source": [
        "import datetime\n",
        "\n",
        "def search(text, username='', since='', until='', retweet='n', replies='n'):\n",
        "    global filename\n",
        "    \n",
        "    # Convert tuple arguments to strings\n",
        "    if isinstance(text, tuple):\n",
        "        text = ' '.join(text)\n",
        "    if isinstance(username, tuple):\n",
        "        username = ' '.join(username)\n",
        "    if isinstance(since, tuple):\n",
        "        since = ' '.join(since)\n",
        "    if isinstance(until, tuple):\n",
        "        until = ' '.join(until)\n",
        "    \n",
        "    q = text\n",
        "\n",
        "    if username:\n",
        "        q += f' from:{username}'\n",
        "\n",
        "    if not since:\n",
        "        since = (datetime.date.today() - datetime.timedelta(days=7)).strftime('%Y-%m-%d')\n",
        "    q += f' since:{since}'\n",
        "\n",
        "    if not until:\n",
        "        until = datetime.date.today().strftime('%Y-%m-%d')\n",
        "    q += f' until:{until}'\n",
        "\n",
        "    if retweet == 'n':\n",
        "        q += ' exclude:retweets'\n",
        "\n",
        "    if replies == 'n':\n",
        "        q += ' exclude:replies'\n",
        "\n",
        "    # Generate filename based on search parameters\n",
        "    if username and text:\n",
        "        filename = f'{since}_{until}_{username}_{text}.csv'\n",
        "    elif username:\n",
        "        filename = f'{since}_{until}_{username}.csv'\n",
        "    else:\n",
        "        filename = f'{since}_{until}_{text}.csv'\n",
        "\n",
        "    print(filename)\n",
        "    return q\n"
      ],
      "metadata": {
        "id": "Az1zzRKXZz78"
      },
      "execution_count": 4,
      "outputs": []
    },
    {
      "cell_type": "code",
      "source": [
        "from tqdm.notebook import tqdm_notebook\n",
        "\n",
        "q = search(text, username, since, until, retweet, replies)\n",
        "\n",
        "# Creating list to append tweet data\n",
        "tweets_list1 = []\n",
        "\n",
        "# Using TwitterSearchScraper to scrape data and append tweets to list\n",
        "if count == -1:\n",
        "    for i, tweet in enumerate(tqdm_notebook(sntwitter.TwitterSearchScraper(q).get_items())):\n",
        "        tweets_list1.append([tweet.date, tweet.id, tweet.rawContent, tweet.user.username, tweet.lang, tweet.hashtags, tweet.replyCount, tweet.retweetCount, tweet.likeCount, tweet.quoteCount, tweet.media])\n",
        "else:\n",
        "    with tqdm_notebook(total=count) as pbar:\n",
        "        for i, tweet in enumerate(sntwitter.TwitterSearchScraper(q).get_items()):\n",
        "            if i >= {count}:\n",
        "                break\n",
        "            tweets_list1.append([tweet.date, tweet.id, tweet.rawContent, tweet.user.username, tweet.lang, tweet.hashtags, tweet.replyCount, tweet.retweetCount, tweet.likeCount, tweet.quoteCount, tweet.media])\n",
        "            pbar.update(1)\n",
        "\n",
        "# Creating a DataFrame from the tweets list above\n",
        "tweets_df1 = pd.DataFrame(tweets_list1, columns=['DateTime', 'TweetId', 'Text', 'Username', 'Language', 'Hashtags', 'ReplyCount', 'RetweetCount', 'LikeCount', 'QuoteCount', 'Media'])\n",
        "\n",
        "# Dropping duplicates based on tweet ID\n",
        "tweets_df1.drop_duplicates(subset='TweetId', keep='first', inplace=True)\n",
        "\n",
        "# Resetting index of the DataFrame\n",
        "tweets_df1.reset_index(drop=True, inplace=True)\n",
        "\n",
        "# Converting 'DateTime' column to datetime format\n",
        "tweets_df1['DateTime'] = pd.to_datetime(tweets_df1['DateTime'])\n",
        "\n",
        "# Setting 'TweetId' column as the index\n",
        "tweets_df1.set_index('TweetId', inplace=True)\n",
        "\n",
        "# Sorting the DataFrame by 'DateTime' column\n",
        "tweets_df1.sort_values(by='DateTime', inplace=True)\n",
        "\n",
        "# Printing the first 5 rows of the DataFrame\n",
        "print(tweets_df1.head())\n"
      ],
      "metadata": {
        "colab": {
          "base_uri": "https://localhost:8080/",
          "height": 657,
          "referenced_widgets": [
            "f4aff12dd33440548dc2e7f02e923ff7",
            "e283bcfb509548eaa6f484ee87937d90",
            "13f769ef36544f86839a7fddbaba0512",
            "3b6baf3df3fb47deaf15862c49d19187",
            "acc69407047841869a0e28fd2c96552b",
            "91e888ae6ca949c08e4a4122ccb80c31",
            "3a185a5e3e4b4725966bfbaecdac4d26",
            "dd2f00e050d04641ab3435588a62efbb",
            "4f3f49839fb5433b9b2d8137202e2e01",
            "7566dccdc3df4ef985775c6c80a30e00",
            "a71bf5b98b4a41169b5ffb7952080e66"
          ]
        },
        "id": "FHKo_bdhiuCy",
        "outputId": "e008cff4-c89c-44c7-dc66-f131ea6c25d3"
      },
      "execution_count": 7,
      "outputs": [
        {
          "output_type": "stream",
          "name": "stdout",
          "text": [
            "2023-02-23_2023-03-02_RwandaFinance_finance.csv\n"
          ]
        },
        {
          "output_type": "display_data",
          "data": {
            "text/plain": [
              "0it [00:00, ?it/s]"
            ],
            "application/vnd.jupyter.widget-view+json": {
              "version_major": 2,
              "version_minor": 0,
              "model_id": "f4aff12dd33440548dc2e7f02e923ff7"
            }
          },
          "metadata": {}
        },
        {
          "output_type": "stream",
          "name": "stdout",
          "text": [
            "                                     DateTime  \\\n",
            "TweetId                                         \n",
            "1628701244805066753 2023-02-23 10:20:11+00:00   \n",
            "1629054408880267265 2023-02-24 09:43:32+00:00   \n",
            "1629054413024141312 2023-02-24 09:43:33+00:00   \n",
            "1630915452409896960 2023-03-01 12:58:39+00:00   \n",
            "\n",
            "                                                                  Text  \\\n",
            "TweetId                                                                  \n",
            "1628701244805066753  A public-private policy dialogue on the status...   \n",
            "1629054408880267265  Minister @undagijimana today held bilateral ta...   \n",
            "1629054413024141312  They also signed a memorandum of understanding...   \n",
            "1630915452409896960  Watch Minister of State in Charge of National ...   \n",
            "\n",
            "                          Username Language  Hashtags  ReplyCount  \\\n",
            "TweetId                                                             \n",
            "1628701244805066753  RwandaFinance       en      None           0   \n",
            "1629054408880267265  RwandaFinance       en      None           1   \n",
            "1629054413024141312  RwandaFinance       en      None           0   \n",
            "1630915452409896960  RwandaFinance       en  [Rwanda]           0   \n",
            "\n",
            "                     RetweetCount  LikeCount  QuoteCount  \\\n",
            "TweetId                                                    \n",
            "1628701244805066753             7         14           0   \n",
            "1629054408880267265             8         26           0   \n",
            "1629054413024141312             5         12           1   \n",
            "1630915452409896960             5          9           0   \n",
            "\n",
            "                                                                 Media  \n",
            "TweetId                                                                 \n",
            "1628701244805066753  [Photo(previewUrl='https://pbs.twimg.com/media...  \n",
            "1629054408880267265  [Photo(previewUrl='https://pbs.twimg.com/media...  \n",
            "1629054413024141312  [Photo(previewUrl='https://pbs.twimg.com/media...  \n",
            "1630915452409896960                                               None  \n"
          ]
        }
      ]
    }
  ]
}